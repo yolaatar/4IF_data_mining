{
 "cells": [
  {
   "cell_type": "code",
   "execution_count": 3,
   "metadata": {},
   "outputs": [
    {
     "name": "stdout",
     "output_type": "stream",
     "text": [
      "Une erreur est survenue : Error tokenizing data. C error: Expected 19 fields in line 3713, saw 2845790\n",
      "\n"
     ]
    }
   ],
   "source": [
    "import pandas as pd\n",
    "\n",
    "# Remplace 'nom_du_fichier.csv' par le chemin réel de ton fichier CSV\n",
    "chemin_fichier = 'flickr_data2.csv'\n",
    "\n",
    "try:\n",
    "    data = pd.read_csv(chemin_fichier, sep=',', on_bad_lines='skip')\n",
    "    print(\"Fichier importé avec succès en ignorant les lignes problématiques !\")\n",
    "    print(data.head())\n",
    "except Exception as e:\n",
    "    print(f\"Une erreur est survenue : {e}\")\n"
   ]
  }
 ],
 "metadata": {
  "kernelspec": {
   "display_name": "Python 3",
   "language": "python",
   "name": "python3"
  },
  "language_info": {
   "codemirror_mode": {
    "name": "ipython",
    "version": 3
   },
   "file_extension": ".py",
   "mimetype": "text/x-python",
   "name": "python",
   "nbconvert_exporter": "python",
   "pygments_lexer": "ipython3",
   "version": "3.12.5"
  }
 },
 "nbformat": 4,
 "nbformat_minor": 2
}
